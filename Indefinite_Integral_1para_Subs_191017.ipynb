{
 "cells": [
  {
   "cell_type": "markdown",
   "metadata": {},
   "source": [
    "##  1変数関数不定積分（置換積分）プログラム\n",
    "\n",
    "1変数関数の不定積分（置換積分）をインタラクティブに解くプログラムです．\n",
    "\n",
    "実行すると，$f$に1変数関数（変数は$x$を使って下さい）を入力するボックスがプログラム部分の直後に現れるので，関数を指定して下さい．入力すると即座に関数の不定積分が表示されます．$t$に置換に使いたい1変数関数（変数は$x$を使って下さい）を入力すると対応する置換積分の結果が表示されます．\n",
    "\n",
    "$f$として入力可能な関数はpythonのパッケージsympyで提供されている関数群です．大概の初等関数や有名な関数は使用可能と思われます．\n",
    "https://docs.sympy.org/latest/modules/functions/index.html\n",
    "\n",
    "【関数入力上の注意の一例】\n",
    "- $ax$はa*xのように書きます．\n",
    "- $x^{k}$はx**kのように書きます．\n",
    "- $\\frac{a}{b+c}$はa/(b+c)のように書きます．\n",
    "- $\\sqrt{x}$はsqrt(x)のように，$\\sqrt[n]{x}$はroot(x,n)あるいはx**(1/n)のように書きます．\n",
    "- $sin x$はsin(x)のように，$sin^{-1} x$はasin(x)のように書きます．\n",
    "- $e^{x}$はexp(x)のように，$a^{x}$はa**xのように書きます．\n",
    "- $\\ln x$はlog(x)のように，$\\log_{a}x$はlog(x,a)のように書きます．\n",
    "- $|x|$はAbs(x)のように，$[x]$はfloor(x)のように書きます．"
   ]
  },
  {
   "cell_type": "code",
   "execution_count": 1,
   "metadata": {
    "scrolled": true
   },
   "outputs": [],
   "source": [
    "from sympy import *\n",
    "init_printing()\n",
    "\n",
    "from ipywidgets import interact\n",
    "# インタラクティブ画面が出ない場合　：　「jupyter nbextension enable --py widgetsnbextension」をターミナル等で一度実行．\n",
    "# Try jupyter[https://jupyter.org/try]上では問題なく動作．\n",
    "\n",
    "from IPython.display import Math"
   ]
  },
  {
   "cell_type": "code",
   "execution_count": 2,
   "metadata": {},
   "outputs": [
    {
     "data": {
      "application/vnd.jupyter.widget-view+json": {
       "model_id": "fe4df6b9bfdc42c5b5eee2e99e1e4c80",
       "version_major": 2,
       "version_minor": 0
      },
      "text/plain": [
       "interactive(children=(Text(value='log(x)/x', description='f'), Text(value='log(x)', description='t'), Output()…"
      ]
     },
     "metadata": {},
     "output_type": "display_data"
    }
   ],
   "source": [
    "# 1変数関数の置換積分をインタラクティブに解きます．\n",
    "x= symbols('x')\n",
    "u= symbols('u')\n",
    "\n",
    "@interact(f='log(x)/x',t='log(x)')\n",
    "def f(f,t):\n",
    "    # sympy形式の数式への変換\n",
    "    f = sympify(f)\n",
    "    t = sympify(t)\n",
    "    \n",
    "    display(Math(r'\\int \\left(%s\\right) dx = %s + C' % (latex(f), latex(integrate(f, x)))))\n",
    "    display(Math(r'\\int \\left(%s\\right) dx' % (latex(f))))\n",
    "    f = (f/diff(t,x,1)).subs(x,solve(t-u,x)[0])\n",
    "    w = t\n",
    "    t = symbols('t')\n",
    "    f = f.subs(u,t)\n",
    "    display(Math(r'= \\int \\left(%s\\right) dt = %s + C = %s + C' % (latex(f), latex(integrate(f, t)), latex(integrate(f, t).subs(t,w)))))"
   ]
  },
  {
   "cell_type": "code",
   "execution_count": null,
   "metadata": {},
   "outputs": [],
   "source": []
  }
 ],
 "metadata": {
  "anaconda-cloud": {},
  "kernelspec": {
   "display_name": "Python 3",
   "language": "python",
   "name": "python3"
  },
  "language_info": {
   "codemirror_mode": {
    "name": "ipython",
    "version": 3
   },
   "file_extension": ".py",
   "mimetype": "text/x-python",
   "name": "python",
   "nbconvert_exporter": "python",
   "pygments_lexer": "ipython3",
   "version": "3.7.3"
  },
  "latex_envs": {
   "bibliofile": "biblio.bib",
   "cite_by": "apalike",
   "current_citInitial": 1,
   "eqLabelWithNumbers": true,
   "eqNumInitial": 0
  }
 },
 "nbformat": 4,
 "nbformat_minor": 2
}
