{
 "cells": [
  {
   "cell_type": "code",
   "execution_count": null,
   "metadata": {},
   "outputs": [],
   "source": [
    "#スクリプト部分の表示制御\n",
    "#https://qiita.com/simonritchie/items/d7dccb798f0b9c8b1ec5\n",
    "#の記事を用いて作成しました．大変有り難うございます．\n",
    "\n",
    "from IPython.display import HTML\n",
    "\n",
    "HTML(\"\"\"\n",
    "<button id=\"code-show-switch-btn\">スクリプトを表示する</button>\n",
    "\n",
    "<script>\n",
    "var code_show = true;\n",
    "$(\"div.input\").hide();\n",
    "\n",
    "function switch_display_setting() {\n",
    "    var switch_btn = $(\"#code-show-switch-btn\");\n",
    "    if (code_show) {\n",
    "        $(\"div.input\").hide();\n",
    "        code_show = false;\n",
    "        switch_btn.text(\"スクリプトを表示する\");\n",
    "    }else{\n",
    "        $(\"div.input\").show();\n",
    "        code_show = true;\n",
    "        switch_btn.text(\"スクリプトを非表示にする\");\n",
    "    }\n",
    "}\n",
    "\n",
    "$(\"#code-show-switch-btn\").click(switch_display_setting);\n",
    "</script>\n",
    "\"\"\")"
   ]
  },
  {
   "cell_type": "markdown",
   "metadata": {},
   "source": [
    "##  1変数関数定積分（部分積分）表示プログラム\n",
    "\n",
    "1変数関数の定積分（部分積分）をインタラクティブに解くプログラムです．\n",
    "\n",
    "実行すると，$f$,$g$に1変数関数（変数は$x$を使って下さい）を入力するボックスがプログラム部分の直後に現れるので，関数を指定して下さい．変数$a$と$b$に積分区間の上下限を入力して下さい．入力すると即座に関数$fg$の定積分が表示されます．本プログラムでは部分積分によって，以下のような部分積分を実行します．但し，関数$G$は関数$g$の原始関数で，$G^{\\prime}(x)=g(x)$を満たします．入力ボックス$k$には部分積分の繰り返し回数を$1$以上の整数値で指定して下さい．\n",
    "$$\n",
    "\\int_{a}^{b} f(x)g(x) dx = \\left[f(x)G(x)\\right]_{a}^{b} - \\int_{a}^{b} f^{\\prime}(x)G(x) dx\n",
    "$$\n",
    "\n",
    "$f$,$g$として入力可能な関数はpythonのパッケージsympyで提供されている関数群です．大概の初等関数や有名な関数は使用可能と思われます．\n",
    "https://docs.sympy.org/latest/modules/functions/index.html\n",
    "\n",
    "【関数入力上の注意の一例】\n",
    "- $ax$はa*xのように書きます．\n",
    "- $x^{k}$はx**kのように書きます．\n",
    "- $\\frac{a}{b+c}$はa/(b+c)のように書きます．\n",
    "- $\\sqrt{x}$はsqrt(x)のように，$\\sqrt[n]{x}$はroot(x,n)あるいはx**(1/n)のように書きます．\n",
    "- $sin x$はsin(x)のように，$sin^{-1} x$はasin(x)のように書きます．\n",
    "- $e^{x}$はexp(x)のように，$a^{x}$はa**xのように書きます．\n",
    "- $\\ln x$はlog(x)のように，$\\log_{a}x$はlog(x,a)のように書きます．\n",
    "- $|x|$はAbs(x)のように，$[x]$はfloor(x)のように書きます．\n",
    "- $\\pi$はpiのように書きます．"
   ]
  },
  {
   "cell_type": "code",
   "execution_count": 1,
   "metadata": {
    "scrolled": true
   },
   "outputs": [],
   "source": [
    "from sympy import *\n",
    "init_printing()\n",
    "\n",
    "from ipywidgets import interact\n",
    "# インタラクティブ画面が出ない場合　：　「jupyter nbextension enable --py widgetsnbextension」をターミナル等で一度実行．\n",
    "# Try jupyter[https://jupyter.org/try]上では問題なく動作．\n",
    "\n",
    "from IPython.display import Math"
   ]
  },
  {
   "cell_type": "code",
   "execution_count": 5,
   "metadata": {},
   "outputs": [
    {
     "data": {
      "application/vnd.jupyter.widget-view+json": {
       "model_id": "02da3835abe141a2b660605a3bee9377",
       "version_major": 2,
       "version_minor": 0
      },
      "text/plain": [
       "interactive(children=(Text(value='x', description='f'), Text(value='sin(x)', description='g'), Text(value='0',…"
      ]
     },
     "metadata": {},
     "output_type": "display_data"
    }
   ],
   "source": [
    "# 1変数関数の部分積分をインタラクティブに解きます．\n",
    "x= symbols('x')\n",
    "\n",
    "@interact(f='x',g='sin(x)', a='0', b='pi/2', k='1')\n",
    "def f(f,g,a,b,k):\n",
    "    # sympy形式の数式への変換\n",
    "    f = sympify(f)\n",
    "    g = sympify(g)\n",
    "    a = sympify(a)\n",
    "    b = sympify(b)\n",
    "    \n",
    "    display(Math(r'\\int %s dx = %s + C' % (latex(f*g), latex(integrate(f*g, x)))))\n",
    "    display(Math(r'\\int^{%s}_{%s} %s dx = %s' % (latex(b),latex(a),latex(f*g),latex(integrate(f*g,(x,a,b))))))\n",
    "    \n",
    "    display(Math(r'\\int^{%s}_{%s} %s dx = ' % (latex(b),latex(a),latex(f*g))))\n",
    "    \n",
    "    for i in range(int(k)):\n",
    "        g = integrate(g, x)\n",
    "        if i%2==0:\n",
    "            display(Math(r' + \\left[ \\left(%s\\right) \\times \\left(%s\\right) \\right]^{%s}_{%s}' \\\n",
    "                     % (latex( diff(f, x, i) ), latex( g ), latex(b), latex(a))))\n",
    "        else:\n",
    "            display(Math(r' - \\left[ \\left(%s\\right) \\times \\left(%s\\right) \\right]^{%s}_{%s}' \\\n",
    "                     % (latex( diff(f, x, i) ), latex( g ), latex(b), latex(a))))\n",
    "    \n",
    "    if int(k)%2==0:\n",
    "        display(Math(r' + \\int^{%s}_{%s} \\left(%s\\right) \\times \\left(%s\\right) dx' \\\n",
    "                 %  (latex(b),latex(a),latex( diff(f, x, int(k)) ), latex( g ))))\n",
    "    else:\n",
    "        display(Math(r' - \\int^{%s}_{%s} \\left(%s\\right) \\times \\left(%s\\right) dx' \\\n",
    "                 %  (latex(b),latex(a),latex( diff(f, x, int(k)) ), latex( g ))))"
   ]
  },
  {
   "cell_type": "code",
   "execution_count": null,
   "metadata": {},
   "outputs": [],
   "source": []
  }
 ],
 "metadata": {
  "anaconda-cloud": {},
  "kernelspec": {
   "display_name": "Python 3",
   "language": "python",
   "name": "python3"
  },
  "language_info": {
   "codemirror_mode": {
    "name": "ipython",
    "version": 3
   },
   "file_extension": ".py",
   "mimetype": "text/x-python",
   "name": "python",
   "nbconvert_exporter": "python",
   "pygments_lexer": "ipython3",
   "version": "3.7.4"
  },
  "latex_envs": {
   "bibliofile": "biblio.bib",
   "cite_by": "apalike",
   "current_citInitial": 1,
   "eqLabelWithNumbers": true,
   "eqNumInitial": 0
  }
 },
 "nbformat": 4,
 "nbformat_minor": 2
}
