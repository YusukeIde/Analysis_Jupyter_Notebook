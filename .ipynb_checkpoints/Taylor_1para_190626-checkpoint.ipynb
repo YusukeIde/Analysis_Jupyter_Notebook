{
 "cells": [
  {
   "cell_type": "code",
   "execution_count": null,
   "metadata": {},
   "outputs": [],
   "source": [
    "#スクリプト部分の表示制御\n",
    "#https://qiita.com/simonritchie/items/d7dccb798f0b9c8b1ec5\n",
    "#の記事を用いて作成しました．大変有り難うございます．\n",
    "\n",
    "from IPython.display import HTML\n",
    "\n",
    "HTML(\"\"\"\n",
    "<button id=\"code-show-switch-btn\">スクリプトを表示する</button>\n",
    "\n",
    "<script>\n",
    "var code_show = true;\n",
    "$(\"div.input\").hide();\n",
    "\n",
    "function switch_display_setting() {\n",
    "    var switch_btn = $(\"#code-show-switch-btn\");\n",
    "    if (code_show) {\n",
    "        $(\"div.input\").hide();\n",
    "        code_show = false;\n",
    "        switch_btn.text(\"スクリプトを表示する\");\n",
    "    }else{\n",
    "        $(\"div.input\").show();\n",
    "        code_show = true;\n",
    "        switch_btn.text(\"スクリプトを非表示にする\");\n",
    "    }\n",
    "}\n",
    "\n",
    "$(\"#code-show-switch-btn\").click(switch_display_setting);\n",
    "</script>\n",
    "\"\"\")"
   ]
  },
  {
   "cell_type": "markdown",
   "metadata": {},
   "source": [
    "##  テイラー展開表示プログラム\n",
    "\n",
    "1変数関数のテイラー展開をインタラクティブに表示するプログラムです．\n",
    "\n",
    "実行すると，$f$に1変数関数（変数は$x$を使って下さい）を入力するボックスがプログラム部分の直後に現れるので，関数を指定して下さい．$a$には実数値を$k$には$1$以上の整数値を$h$には正の実数値をそれぞれ指定して下さい．入力後，即座に$x=a$周りのテイラー展開を$k-1$次多項式まで用いた形式で表示し，関数のグラフを$a-h\\leq x\\leq a+h$の範囲で描画します．\n",
    "\n",
    "$f$として入力可能な関数はpythonのパッケージsympyで提供されている関数群です．大概の初等関数や有名な関数は使用可能と思われます．\n",
    "https://docs.sympy.org/latest/modules/functions/index.html\n",
    "\n",
    "【関数入力上の注意の一例】\n",
    "- $ax$はa*xのように書きます．\n",
    "- $x^{k}$はx**kのように書きます．\n",
    "- $\\frac{a}{b+c}$はa/(b+c)のように書きます．\n",
    "- $\\sqrt{x}$はsqrt(x)のように，$\\sqrt[n]{x}$はroot(x,n)あるいはx**(1/n)のように書きます．\n",
    "- $sin x$はsin(x)のように，$sin^{-1} x$はasin(x)のように書きます．\n",
    "- $e^{x}$はexp(x)のように，$a^{x}$はa**xのように書きます．\n",
    "- $\\ln x$はlog(x)のように，$\\log_{a}x$はlog(x,a)のように書きます．\n",
    "- $|x|$はAbs(x)のように，$[x]$はfloor(x)のように書きます．"
   ]
  },
  {
   "cell_type": "code",
   "execution_count": 1,
   "metadata": {
    "scrolled": true
   },
   "outputs": [],
   "source": [
    "from sympy import *\n",
    "init_printing()\n",
    "\n",
    "from ipywidgets import interact\n",
    "# インタラクティブ画面が出ない場合　：　「jupyter nbextension enable --py widgetsnbextension」をターミナル等で一度実行．\n",
    "# Try jupyter[https://jupyter.org/try]上では問題なく動作．\n",
    "\n",
    "from IPython.display import Math\n",
    "\n",
    "%matplotlib inline"
   ]
  },
  {
   "cell_type": "code",
   "execution_count": 3,
   "metadata": {},
   "outputs": [
    {
     "data": {
      "application/vnd.jupyter.widget-view+json": {
       "model_id": "f9acb02cdfba45858ae3ae8cc2f9e0c8",
       "version_major": 2,
       "version_minor": 0
      },
      "text/plain": [
       "interactive(children=(Text(value='exp(x)', description='f'), Text(value='0', description='a'), Text(value='3',…"
      ]
     },
     "metadata": {},
     "output_type": "display_data"
    },
    {
     "data": {
      "image/png": "[encoded data removed]",
      "text/plain": [
       "<Figure size 432x288 with 1 Axes>"
      ]
     },
     "metadata": {
      "needs_background": "light"
     },
     "output_type": "display_data"
    },
    {
     "data": {
      "image/png": "[encoded data removed]",
      "text/plain": [
       "<Figure size 432x288 with 1 Axes>"
      ]
     },
     "metadata": {
      "needs_background": "light"
     },
     "output_type": "display_data"
    }
   ],
   "source": [
    "# 1変数関数の微分をインタラクティブに解きます．\n",
    "x= symbols('x')\n",
    "\n",
    "@interact(f='exp(x)', a='0', k='3', h='2')\n",
    "def f(f, a, k, h):\n",
    "    # sympy形式の数式への変換\n",
    "    f = sympify(f)\n",
    "    \n",
    "    # Tylor展開の計算\n",
    "    taylor = series(f, x, float(a), int(k))\n",
    "    \n",
    "    # 元の関数とそのTaylor展開の表示\n",
    "    display(Math(r'f(x) = %s, \\quad Taylor\\ expansion = %s' % (latex(f),latex(taylor))))\n",
    "    \n",
    "    #  元の関数とそのTaylor展開(.removeO()でオーダー項を除去)のプロット\n",
    "    fig = plot(f, taylor.removeO(), (x, float(a)-float(h), float(a)+float(h)), legend=True, show=False)\n",
    "    fig[0].line_color = 'b'\n",
    "    fig[1].line_color = 'r'\n",
    "    fig.show()"
   ]
  },
  {
   "cell_type": "code",
   "execution_count": null,
   "metadata": {},
   "outputs": [],
   "source": []
  }
 ],
 "metadata": {
  "anaconda-cloud": {},
  "kernelspec": {
   "display_name": "Python 3",
   "language": "python",
   "name": "python3"
  },
  "language_info": {
   "codemirror_mode": {
    "name": "ipython",
    "version": 3
   },
   "file_extension": ".py",
   "mimetype": "text/x-python",
   "name": "python",
   "nbconvert_exporter": "python",
   "pygments_lexer": "ipython3",
   "version": "3.7.4"
  },
  "latex_envs": {
   "bibliofile": "biblio.bib",
   "cite_by": "apalike",
   "current_citInitial": 1,
   "eqLabelWithNumbers": true,
   "eqNumInitial": 0
  }
 },
 "nbformat": 4,
 "nbformat_minor": 2
}
