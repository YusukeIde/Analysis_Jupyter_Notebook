{
 "cells": [
  {
   "cell_type": "markdown",
   "metadata": {},
   "source": [
    "##  関数グラフ表示プログラム\n",
    "\n",
    "1変数関数のグラフをインタラクティブに表示するプログラムです．\n",
    "\n",
    "実行すると，$f$に1変数関数（変数は$x$を使って下さい）を入力するボックスがプログラム部分の直後に現れるので，関数を指定して下さい．また，$width$には正の実数値をそれぞれ指定して下さい．入力後，即座に関数のグラフを$a-width\\leq x\\leq a+width$の範囲で描画します．\n",
    "\n",
    "$f$として入力可能な関数はpythonのパッケージsympyで提供されている関数群です．大概の初等関数や有名な関数は使用可能と思われます．\n",
    "https://docs.sympy.org/latest/modules/functions/index.html\n",
    "\n",
    "【関数入力上の注意の一例】\n",
    "- $ax$はa*xのように書きます．\n",
    "- $x^{k}$はx**kのように書きます．\n",
    "- $\\frac{a}{b+c}$はa/(b+c)のように書きます．\n",
    "- $\\sqrt{x}$はsqrt(x)のように，$\\sqrt[n]{x}$はroot(x,n)あるいはx**(1/n)のように書きます．\n",
    "- $sin x$はsin(x)のように，$sin^{-1} x$はasin(x)のように書きます．\n",
    "- $e^{x}$はexp(x)のように，$a^{x}$はa**xのように書きます．\n",
    "- $\\ln x$はlog(x)のように，$\\log_{a}x$はlog(x,a)のように書きます．\n",
    "- $|x|$はAbs(x)のように，$[x]$はfloor(x)のように書きます．"
   ]
  },
  {
   "cell_type": "code",
   "execution_count": 1,
   "metadata": {
    "scrolled": true
   },
   "outputs": [],
   "source": [
    "from sympy import *\n",
    "init_printing()\n",
    "\n",
    "from ipywidgets import interact\n",
    "\n",
    "from IPython.display import Math\n",
    "\n",
    "%matplotlib inline"
   ]
  },
  {
   "cell_type": "code",
   "execution_count": 2,
   "metadata": {},
   "outputs": [
    {
     "data": {
      "application/vnd.jupyter.widget-view+json": {
       "model_id": "79de92600bc243c9842a43f59eb9f04a",
       "version_major": 2,
       "version_minor": 0
      },
      "text/plain": [
       "interactive(children=(Text(value='sin(x)', description='f'), Text(value='10', description='width'), Output()),…"
      ]
     },
     "metadata": {},
     "output_type": "display_data"
    }
   ],
   "source": [
    "# 1変数関数の微分をインタラクティブに解きます．\n",
    "x= symbols('x')\n",
    "\n",
    "@interact(f='sin(x)', width='10')\n",
    "def f(f, width):\n",
    "    # sympy形式の数式への変換\n",
    "    f = sympify(f)\n",
    "    \n",
    "    # 元の関数とそのTaylor展開の表示\n",
    "    display(Math(r'f(x) = %s' % (latex(f))))\n",
    "    \n",
    "    #  関数のプロット\n",
    "    fig = plot(f, (x, -float(width), float(width)), legend=True)"
   ]
  },
  {
   "cell_type": "code",
   "execution_count": null,
   "metadata": {},
   "outputs": [],
   "source": []
  }
 ],
 "metadata": {
  "anaconda-cloud": {},
  "kernelspec": {
   "display_name": "Python 3",
   "language": "python",
   "name": "python3"
  },
  "language_info": {
   "codemirror_mode": {
    "name": "ipython",
    "version": 3
   },
   "file_extension": ".py",
   "mimetype": "text/x-python",
   "name": "python",
   "nbconvert_exporter": "python",
   "pygments_lexer": "ipython3",
   "version": "3.7.3"
  },
  "latex_envs": {
   "bibliofile": "biblio.bib",
   "cite_by": "apalike",
   "current_citInitial": 1,
   "eqLabelWithNumbers": true,
   "eqNumInitial": 0
  }
 },
 "nbformat": 4,
 "nbformat_minor": 2
}
