{
 "cells": [
  {
   "cell_type": "code",
   "execution_count": 4,
   "metadata": {},
   "outputs": [
    {
     "data": {
      "text/html": [
       "\n",
       "<button id=\"code-show-switch-btn\">スクリプトを表示する</button>\n",
       "\n",
       "<script>\n",
       "var code_show = true;\n",
       "$(\"div.input\").hide();\n",
       "\n",
       "function switch_display_setting() {\n",
       "    var switch_btn = $(\"#code-show-switch-btn\");\n",
       "    if (code_show) {\n",
       "        $(\"div.input\").hide();\n",
       "        code_show = false;\n",
       "        switch_btn.text(\"スクリプトを表示する\");\n",
       "    }else{\n",
       "        $(\"div.input\").show();\n",
       "        code_show = true;\n",
       "        switch_btn.text(\"スクリプトを非表示にする\");\n",
       "    }\n",
       "}\n",
       "\n",
       "$(\"#code-show-switch-btn\").click(switch_display_setting);\n",
       "</script>\n"
      ],
      "text/plain": [
       "<IPython.core.display.HTML object>"
      ]
     },
     "execution_count": 4,
     "metadata": {},
     "output_type": "execute_result"
    }
   ],
   "source": [
    "#スクリプト部分の表示制御\n",
    "#https://qiita.com/simonritchie/items/d7dccb798f0b9c8b1ec5\n",
    "#の記事を用いて作成しました．大変有り難うございます．\n",
    "\n",
    "from IPython.display import HTML\n",
    "\n",
    "HTML(\"\"\"\n",
    "<button id=\"code-show-switch-btn\">スクリプトを表示する</button>\n",
    "\n",
    "<script>\n",
    "var code_show = true;\n",
    "$(\"div.input\").hide();\n",
    "\n",
    "function switch_display_setting() {\n",
    "    var switch_btn = $(\"#code-show-switch-btn\");\n",
    "    if (code_show) {\n",
    "        $(\"div.input\").hide();\n",
    "        code_show = false;\n",
    "        switch_btn.text(\"スクリプトを表示する\");\n",
    "    }else{\n",
    "        $(\"div.input\").show();\n",
    "        code_show = true;\n",
    "        switch_btn.text(\"スクリプトを非表示にする\");\n",
    "    }\n",
    "}\n",
    "\n",
    "$(\"#code-show-switch-btn\").click(switch_display_setting);\n",
    "</script>\n",
    "\"\"\")"
   ]
  },
  {
   "cell_type": "markdown",
   "metadata": {},
   "source": [
    "##  定数係数2階線形同次微分方程式プログラム\n",
    "\n",
    "定数係数の$2$階線形同次微分方程式をインタラクティブに解くプログラムです．\n",
    "\n",
    "実行すると，$a,b,c$に数値を入力するボックスがプログラム部分の直後に現れるので，指定して下さい．定数係数2階線形同次微分方程式$a\\frac{d^2y}{dx^2}+b\\frac{dy}{dx}+cy=0$を定式化できます．「特性方程式」にチェックを入れると，対応する特性方程式が表示されます．「特性方程式の解」にチェックを入れると，対応する特性方程式の解が表示されます．「微分方程式の一般解」にチェックを入れると，微分方程式の一般解が表示されます．\n",
    "\n",
    "【入力上の注意】．\n",
    "- $\\frac{a}{b}$はa/bのように書きます．"
   ]
  },
  {
   "cell_type": "code",
   "execution_count": 5,
   "metadata": {
    "scrolled": true
   },
   "outputs": [],
   "source": [
    "from sympy import *\n",
    "init_printing()\n",
    "\n",
    "from ipywidgets import interact\n",
    "# インタラクティブ画面が出ない場合　：　「jupyter nbextension enable --py widgetsnbextension」をターミナル等で一度実行．\n",
    "# Try jupyter[https://jupyter.org/try]上では問題なく動作．\n",
    "\n",
    "from IPython.display import Math"
   ]
  },
  {
   "cell_type": "code",
   "execution_count": 6,
   "metadata": {},
   "outputs": [
    {
     "data": {
      "application/vnd.jupyter.widget-view+json": {
       "model_id": "cbcc0103df27429e88a40b3228d334c4",
       "version_major": 2,
       "version_minor": 0
      },
      "text/plain": [
       "interactive(children=(Text(value='1', description='a'), Text(value='3', description='b'), Text(value='2', desc…"
      ]
     },
     "metadata": {},
     "output_type": "display_data"
    }
   ],
   "source": [
    "# 1変数関数の微分をインタラクティブに解きます．\n",
    "x ,a, b, c = symbols('x a b c')\n",
    "y = symbols('y' ,cls=Function)\n",
    "\n",
    "@interact(a='1', b='3', c='2', 特性方程式=False, 特性方程式の解=False, 微分方程式の一般解=False)\n",
    "def f(a,b,c,特性方程式=False,特性方程式の解=False,微分方程式の一般解=False):\n",
    "    # sympy形式の数式への変換\n",
    "    a = sympify(a)\n",
    "    b = sympify(b)\n",
    "    c = sympify(c)\n",
    "    \n",
    "    diffeq = Eq( a*y(x).diff(x, 2) + b*y(x).diff(x, 1) + c*y(x) , 0 )\n",
    "    display( Math(r'微分方程式：%s' % ( latex(diffeq) ) ) )\n",
    "    \n",
    "    if(特性方程式==True):\n",
    "        display( Math(r'特性方程式：%s\\lambda^{2}+%s\\lambda+%s=0' % ( latex(a), latex(b), latex(c) ) ) )\n",
    "    if(特性方程式の解==True):\n",
    "        display( Math(r'特性方程式の解：\\lambda=%s' % ( latex(solve(a*x**2+b*x+c,x)) ) ) )\n",
    "    if(微分方程式の一般解==True):\n",
    "        display( Math(r'微分方程式の一般解：%s' % ( latex(dsolve( diffeq, y(x) )) ) ) )"
   ]
  },
  {
   "cell_type": "code",
   "execution_count": null,
   "metadata": {},
   "outputs": [],
   "source": []
  }
 ],
 "metadata": {
  "anaconda-cloud": {},
  "kernelspec": {
   "display_name": "Python 3",
   "language": "python",
   "name": "python3"
  },
  "language_info": {
   "codemirror_mode": {
    "name": "ipython",
    "version": 3
   },
   "file_extension": ".py",
   "mimetype": "text/x-python",
   "name": "python",
   "nbconvert_exporter": "python",
   "pygments_lexer": "ipython3",
   "version": "3.7.4"
  },
  "latex_envs": {
   "bibliofile": "biblio.bib",
   "cite_by": "apalike",
   "current_citInitial": 1,
   "eqLabelWithNumbers": true,
   "eqNumInitial": 0
  }
 },
 "nbformat": 4,
 "nbformat_minor": 2
}
