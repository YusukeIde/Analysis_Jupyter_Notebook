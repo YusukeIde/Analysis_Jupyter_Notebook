{
 "cells": [
  {
   "cell_type": "markdown",
   "metadata": {},
   "source": [
    "##  幾何分布表示プログラム\n",
    "\n",
    "幾何分布の確率をインタラクティブに表示するプログラムです．\n",
    "\n",
    "実行すると，$p$に成功確率，$k$に成功までの失敗数を入力するボックスがプログラム部分の直後に現れるので，それぞれ入力して下さい．入力すると即座に対応する幾何分布の確率が表示されます．"
   ]
  },
  {
   "cell_type": "code",
   "execution_count": 1,
   "metadata": {
    "scrolled": true
   },
   "outputs": [],
   "source": [
    "from sympy import *\n",
    "init_printing()\n",
    "\n",
    "from sympy.stats import *\n",
    "\n",
    "from ipywidgets import interact\n",
    "# インタラクティブ画面が出ない場合　：　「jupyter nbextension enable --py widgetsnbextension」をターミナル等で一度実行．\n",
    "# Try jupyter[https://jupyter.org/try]上では問題なく動作．\n",
    "\n",
    "from IPython.display import Math"
   ]
  },
  {
   "cell_type": "code",
   "execution_count": 2,
   "metadata": {},
   "outputs": [
    {
     "data": {
      "application/vnd.jupyter.widget-view+json": {
       "model_id": "c96e8bc987a84a17bc47e9da0a777128",
       "version_major": 2,
       "version_minor": 0
      },
      "text/plain": [
       "interactive(children=(Text(value='1/2', description='p'), Text(value='0', description='k'), Output()), _dom_cl…"
      ]
     },
     "metadata": {},
     "output_type": "display_data"
    }
   ],
   "source": [
    "# 幾何分布の確率をインタラクティブに表示します．\n",
    "\n",
    "@interact(p='1/2', k='0')\n",
    "def f(p, k):\n",
    "    X = Geometric('X', p)\n",
    "    display(Math(r'p_{%s} = %s' % (latex(int(k)), latex(density(X)(int(k)+1)))))"
   ]
  },
  {
   "cell_type": "code",
   "execution_count": null,
   "metadata": {},
   "outputs": [],
   "source": []
  }
 ],
 "metadata": {
  "anaconda-cloud": {},
  "kernelspec": {
   "display_name": "Python 3",
   "language": "python",
   "name": "python3"
  },
  "language_info": {
   "codemirror_mode": {
    "name": "ipython",
    "version": 3
   },
   "file_extension": ".py",
   "mimetype": "text/x-python",
   "name": "python",
   "nbconvert_exporter": "python",
   "pygments_lexer": "ipython3",
   "version": "3.7.3"
  },
  "latex_envs": {
   "bibliofile": "biblio.bib",
   "cite_by": "apalike",
   "current_citInitial": 1,
   "eqLabelWithNumbers": true,
   "eqNumInitial": 0
  }
 },
 "nbformat": 4,
 "nbformat_minor": 2
}
