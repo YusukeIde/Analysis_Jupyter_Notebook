{
 "cells": [
  {
   "cell_type": "markdown",
   "metadata": {},
   "source": [
    "##  1変数関数微分プログラム\n",
    "\n",
    "1変数関数の微分をインタラクティブに解くプログラムです．\n",
    "\n",
    "実行すると，$f$に1変数関数（変数は$x$を使って下さい）を入力するボックスがプログラム部分の直後に現れるので，関数を指定して下さい．$k$には微分の階数を$1$以上の整数値で入力して下さい．入力すると即座に関数の微分が表示されます．\n",
    "\n",
    "$f$として入力可能な関数はpythonのパッケージsympyで提供されている関数群です．大概の初等関数や有名な関数は使用可能と思われます．\n",
    "https://docs.sympy.org/latest/modules/functions/index.html\n",
    "\n",
    "【関数入力上の注意の一例】\n",
    "- $ax$はa*xのように書きます．\n",
    "- $x^{k}$はx**kのように書きます．\n",
    "- $\\frac{a}{b+c}$はa/(b+c)のように書きます．\n",
    "- $\\sqrt{x}$はsqrt(x)のように，$\\sqrt[n]{x}$はroot(x,n)あるいはx**(1/n)のように書きます．\n",
    "- $sin x$はsin(x)のように，$sin^{-1} x$はasin(x)のように書きます．\n",
    "- $e^{x}$はexp(x)のように，$a^{x}$はa**xのように書きます．\n",
    "- $\\ln x$はlog(x)のように，$\\log_{a}x$はlog(x,a)のように書きます．\n",
    "- $|x|$はAbs(x)のように，$[x]$はfloor(x)のように書きます．"
   ]
  },
  {
   "cell_type": "code",
   "execution_count": 1,
   "metadata": {
    "scrolled": true
   },
   "outputs": [],
   "source": [
    "from sympy import *\n",
    "init_printing()\n",
    "\n",
    "from ipywidgets import interact\n",
    "# インタラクティブ画面が出ない場合　：　「jupyter nbextension enable --py widgetsnbextension」をターミナル等で一度実行．\n",
    "# Try jupyter[https://jupyter.org/try]上では問題なく動作．"
   ]
  },
  {
   "cell_type": "code",
   "execution_count": 2,
   "metadata": {},
   "outputs": [
    {
     "data": {
      "application/vnd.jupyter.widget-view+json": {
       "model_id": "7bc0a6d873c14db29a72d46551c69c4e",
       "version_major": 2,
       "version_minor": 0
      },
      "text/plain": [
       "interactive(children=(Text(value='1/( sin(3*x**2) + 3*x)', description='f'), Text(value='1', description='k'),…"
      ]
     },
     "metadata": {},
     "output_type": "display_data"
    }
   ],
   "source": [
    "# 1変数関数の微分をインタラクティブに解きます．\n",
    "x= symbols('x')\n",
    "\n",
    "@interact(f='1/( sin(3*x**2) + 3*x)', k='1')\n",
    "def f(f,k):\n",
    "    display(Eq(Derivative(f, x, int(k)), diff(f, x, int(k))))"
   ]
  },
  {
   "cell_type": "code",
   "execution_count": null,
   "metadata": {},
   "outputs": [],
   "source": []
  }
 ],
 "metadata": {
  "anaconda-cloud": {},
  "kernelspec": {
   "display_name": "Python 3",
   "language": "python",
   "name": "python3"
  },
  "language_info": {
   "codemirror_mode": {
    "name": "ipython",
    "version": 3
   },
   "file_extension": ".py",
   "mimetype": "text/x-python",
   "name": "python",
   "nbconvert_exporter": "python",
   "pygments_lexer": "ipython3",
   "version": "3.7.3"
  },
  "latex_envs": {
   "bibliofile": "biblio.bib",
   "cite_by": "apalike",
   "current_citInitial": 1,
   "eqLabelWithNumbers": true,
   "eqNumInitial": 0
  }
 },
 "nbformat": 4,
 "nbformat_minor": 2
}
