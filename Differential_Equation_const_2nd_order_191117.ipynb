{
 "cells": [
  {
   "cell_type": "markdown",
   "metadata": {},
   "source": [
    "##  定数係数2階線形同次微分方程式プログラム\n",
    "\n",
    "定数係数の$2$階線形同次微分方程式をインタラクティブに解くプログラムです．\n",
    "\n",
    "実行すると，$a,b,c$に数値を入力するボックスがプログラム部分の直後に現れるので，指定して下さい．定数係数2階線形同次微分方程式$a\\frac{d^2y}{dx^2}+b\\frac{dy}{dx}+cy=0$を定式化できます．Typeで「微分方程式の一般解」を選ぶと，一般解が即座に表示されます．「特性方程式とその解」を選ぶと，対応する特性方程式とその解が表示されます．「全て」を選ぶと，対応する特性方程式とその解，微分方程式の一般解が順に表示されます．\n",
    "\n",
    "【入力上の注意】．\n",
    "- $\\frac{a}{b}$はa/bのように書きます．"
   ]
  },
  {
   "cell_type": "code",
   "execution_count": 1,
   "metadata": {
    "scrolled": true
   },
   "outputs": [],
   "source": [
    "from sympy import *\n",
    "init_printing()\n",
    "\n",
    "from ipywidgets import interact\n",
    "# インタラクティブ画面が出ない場合　：　「jupyter nbextension enable --py widgetsnbextension」をターミナル等で一度実行．\n",
    "# Try jupyter[https://jupyter.org/try]上では問題なく動作．\n",
    "\n",
    "from IPython.display import Math"
   ]
  },
  {
   "cell_type": "code",
   "execution_count": 3,
   "metadata": {},
   "outputs": [
    {
     "data": {
      "application/vnd.jupyter.widget-view+json": {
       "model_id": "3e5e0dcbfd8c4396927e385315d68f51",
       "version_major": 2,
       "version_minor": 0
      },
      "text/plain": [
       "interactive(children=(Text(value='1', description='a'), Text(value='3', description='b'), Text(value='2', desc…"
      ]
     },
     "metadata": {},
     "output_type": "display_data"
    }
   ],
   "source": [
    "# 1変数関数の微分をインタラクティブに解きます．\n",
    "x ,a, b, c = symbols('x a b c')\n",
    "y = symbols('y' ,cls=Function)\n",
    "\n",
    "@interact(a='1', b='3', c='2', Type=['微分方程式の表示', '微分方程式の一般解', '特性方程式とその解', '全て'])\n",
    "def f(a,b,c, Type):\n",
    "    # sympy形式の数式への変換\n",
    "    a = sympify(a)\n",
    "    b = sympify(b)\n",
    "    c = sympify(c)\n",
    "    \n",
    "    diffeq = Eq( a*y(x).diff(x, 2) + b*y(x).diff(x, 1) + c*y(x) , 0 )\n",
    "    display( Math(r'微分方程式：%s' % ( latex(diffeq) ) ) )\n",
    "    if(Type!='微分方程式の表示'):\n",
    "        if(Type!='微分方程式の一般解'):\n",
    "            display( Math(r'特性方程式：%s\\lambda^{2}+%s\\lambda+%s=0' % ( latex(a), latex(b), latex(c) ) ) )\n",
    "        if(Type!='微分方程式の一般解'):\n",
    "            display( Math(r'特性方程式の解：\\lambda=%s' % ( latex(solve(a*x**2+b*x+c,x)) ) ) )\n",
    "        if(Type!='特性方程式とその解'):\n",
    "            display( Math(r'微分方程式の一般解：%s' % ( latex(dsolve( diffeq, y(x) )) ) ) )"
   ]
  },
  {
   "cell_type": "code",
   "execution_count": null,
   "metadata": {},
   "outputs": [],
   "source": []
  }
 ],
 "metadata": {
  "anaconda-cloud": {},
  "kernelspec": {
   "display_name": "Python 3",
   "language": "python",
   "name": "python3"
  },
  "language_info": {
   "codemirror_mode": {
    "name": "ipython",
    "version": 3
   },
   "file_extension": ".py",
   "mimetype": "text/x-python",
   "name": "python",
   "nbconvert_exporter": "python",
   "pygments_lexer": "ipython3",
   "version": "3.7.4"
  },
  "latex_envs": {
   "bibliofile": "biblio.bib",
   "cite_by": "apalike",
   "current_citInitial": 1,
   "eqLabelWithNumbers": true,
   "eqNumInitial": 0
  }
 },
 "nbformat": 4,
 "nbformat_minor": 2
}
