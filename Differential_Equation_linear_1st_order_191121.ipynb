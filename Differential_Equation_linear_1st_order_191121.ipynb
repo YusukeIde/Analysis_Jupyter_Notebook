{
 "cells": [
  {
   "cell_type": "markdown",
   "metadata": {},
   "source": [
    "##  1階線形微分方程式プログラム\n",
    "\n",
    "$1$階線形微分方程式を定数変化法でインタラクティブに解くプログラムです．\n",
    "\n",
    "実行すると，$p,q,r$に数式（や定数）を入力するボックスがプログラム部分の直後に現れるので，変数は$x$として指定して下さい．1階線形同次微分方程式$p(x)\\frac{dy}{dx}+q(x)y(x)=r(x)$を定式化できます．Typeで「微分方程式の一般解」を選ぶと，一般解が即座に表示されます．「定数変化法以降の手順」を選ぶと，定数変化法の一般解の仮定以降の手順が表示されます．「全ての手順」を選ぶと，全ての手順が順に表示されます．\n",
    "\n",
    "$f$,$g$として入力可能な関数はpythonのパッケージsympyで提供されている関数群です．大概の初等関数や有名な関数は使用可能と思われます．\n",
    "https://docs.sympy.org/latest/modules/functions/index.html\n",
    "\n",
    "【関数入力上の注意の一例】\n",
    "- $ax$はa*xのように書きます．\n",
    "- $x^{k}$はx**kのように書きます．\n",
    "- $\\frac{a}{b+c}$はa/(b+c)のように書きます．\n",
    "- $\\sqrt{x}$はsqrt(x)のように，$\\sqrt[n]{x}$はroot(x,n)あるいはx**(1/n)のように書きます．\n",
    "- $sin x$はsin(x)のように，$sin^{-1} x$はasin(x)のように書きます．\n",
    "- $e^{x}$はexp(x)のように，$a^{x}$はa**xのように書きます．\n",
    "- $\\ln x$はlog(x)のように，$\\log_{a}x$はlog(x,a)のように書きます．\n",
    "- $|x|$はAbs(x)のように，$[x]$はfloor(x)のように書きます．\n",
    "- $\\pi$はpiのように書きます．"
   ]
  },
  {
   "cell_type": "code",
   "execution_count": 7,
   "metadata": {
    "scrolled": true
   },
   "outputs": [],
   "source": [
    "from sympy import *\n",
    "init_printing()\n",
    "\n",
    "from ipywidgets import interact\n",
    "# インタラクティブ画面が出ない場合　：　「jupyter nbextension enable --py widgetsnbextension」をターミナル等で一度実行．\n",
    "# Try jupyter[https://jupyter.org/try]上では問題なく動作．\n",
    "\n",
    "from IPython.display import Math"
   ]
  },
  {
   "cell_type": "code",
   "execution_count": 8,
   "metadata": {},
   "outputs": [
    {
     "data": {
      "application/vnd.jupyter.widget-view+json": {
       "model_id": "421c0831637b45e98608a858d12408cb",
       "version_major": 2,
       "version_minor": 0
      },
      "text/plain": [
       "interactive(children=(Text(value='cos(x)', description='p'), Text(value='sin(x)', description='q'), Text(value…"
      ]
     },
     "metadata": {},
     "output_type": "display_data"
    }
   ],
   "source": [
    "# 1変数関数の微分をインタラクティブに解きます．\n",
    "x = symbols('x')\n",
    "\n",
    "@interact(p='cos(x)', q='sin(x)', r='1', \\\n",
    "          Type=['微分方程式の表示', '微分方程式の一般解', '定数変化法以降の手順', '全ての手順'])\n",
    "def f(p,q,r, Type):\n",
    "    # sympy形式の数式への変換\n",
    "    p = sympify(p)\n",
    "    q = sympify(q)\n",
    "    r = sympify(r)\n",
    "    \n",
    "    display( Math(r'微分方程式：%s \\frac{d}{dx}y(x) + %s y(x) = %s' % ( latex(p),latex(q),latex(r) ) ) )\n",
    "    if(Type != '微分方程式の表示'):\n",
    "        #計算の実行\n",
    "        presol1 = simplify(exp(integrate(-q/p,x)))\n",
    "        RHS = simplify(r/(p*presol1))  \n",
    "        presol2 = simplify(integrate(RHS,x))\n",
    "        \n",
    "        if(Type != '微分方程式の一般解'):\n",
    "            if(Type != '定数変化法以降の手順'):\n",
    "                display( Math(r'同次方程式：%s \\frac{d}{dx}y(x) + %s y(x) = 0' % ( latex(p),latex(q) ) ) )\n",
    "                display( Math(r'同次方程式の一般解：y(x) = C %s' % ( latex(presol1) ) ) )\n",
    "            display( Math(r'定数変化法の一般解の仮定：y(x) = u(x) %s' % ( latex(presol1) ) ) )\n",
    "            display( Math(r'定数変化法の微分方程式：\\frac{d}{dx}u(x) = %s' % ( latex(RHS) ) ) )\n",
    "            display( Math(r'定数変化法の微分方程式の一般解：u(x) = %s + C' % ( latex(presol2) ) ) )\n",
    "            \n",
    "        display( Math(r'微分方程式の一般解：y(x) = (%s + C) %s' % ( latex(presol2),latex(presol1) ) ) )"
   ]
  },
  {
   "cell_type": "code",
   "execution_count": null,
   "metadata": {},
   "outputs": [],
   "source": []
  }
 ],
 "metadata": {
  "anaconda-cloud": {},
  "kernelspec": {
   "display_name": "Python 3",
   "language": "python",
   "name": "python3"
  },
  "language_info": {
   "codemirror_mode": {
    "name": "ipython",
    "version": 3
   },
   "file_extension": ".py",
   "mimetype": "text/x-python",
   "name": "python",
   "nbconvert_exporter": "python",
   "pygments_lexer": "ipython3",
   "version": "3.7.4"
  },
  "latex_envs": {
   "bibliofile": "biblio.bib",
   "cite_by": "apalike",
   "current_citInitial": 1,
   "eqLabelWithNumbers": true,
   "eqNumInitial": 0
  }
 },
 "nbformat": 4,
 "nbformat_minor": 2
}
